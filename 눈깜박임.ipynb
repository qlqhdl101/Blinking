{
  "nbformat": 4,
  "nbformat_minor": 0,
  "metadata": {
    "colab": {
      "name": "눈깜박임",
      "provenance": [],
      "authorship_tag": "ABX9TyNMV3gdIEbn2Ljv8ZxhXrgy",
      "include_colab_link": true
    },
    "kernelspec": {
      "name": "python3",
      "display_name": "Python 3"
    }
  },
  "cells": [
    {
      "cell_type": "markdown",
      "metadata": {
        "id": "view-in-github",
        "colab_type": "text"
      },
      "source": [
        "<a href=\"https://colab.research.google.com/github/qlqhdl101/Blinking/blob/main/%EB%88%88%EA%B9%9C%EB%B0%95%EC%9E%84.ipynb\" target=\"_parent\"><img src=\"https://colab.research.google.com/assets/colab-badge.svg\" alt=\"Open In Colab\"/></a>"
      ]
    },
    {
      "cell_type": "code",
      "metadata": {
        "colab": {
          "base_uri": "https://localhost:8080/"
        },
        "id": "RXIOZya_7fAt",
        "outputId": "52397dc1-e6a8-4079-c07b-114197157c89"
      },
      "source": [
        "!unzip eye_blink_detector-master.zip"
      ],
      "execution_count": null,
      "outputs": [
        {
          "output_type": "stream",
          "text": [
            "Archive:  eye_blink_detector-master.zip\n",
            "118b15c7a1444411cc823a540b23ad2db94c7167\n",
            "   creating: eye_blink_detector-master/\n",
            " extracting: eye_blink_detector-master/.gitignore  \n",
            "  inflating: eye_blink_detector-master/README.md  \n",
            "   creating: eye_blink_detector-master/dataset/\n",
            "  inflating: eye_blink_detector-master/dataset/dataset.csv  \n",
            "  inflating: eye_blink_detector-master/dataset/x_train.npy  \n",
            "  inflating: eye_blink_detector-master/dataset/x_val.npy  \n",
            "  inflating: eye_blink_detector-master/dataset/y_train.npy  \n",
            "  inflating: eye_blink_detector-master/dataset/y_val.npy  \n",
            "  inflating: eye_blink_detector-master/helpers.py  \n",
            "   creating: eye_blink_detector-master/models/\n",
            "  inflating: eye_blink_detector-master/models/2018_12_17_22_58_35.h5  \n",
            "  inflating: eye_blink_detector-master/preprocess.ipynb  \n",
            "  inflating: eye_blink_detector-master/test.py  \n",
            "  inflating: eye_blink_detector-master/train.ipynb  \n",
            "   creating: eye_blink_detector-master/videos/\n",
            "  inflating: eye_blink_detector-master/videos/1.mp4  \n",
            "  inflating: eye_blink_detector-master/videos/2.mp4  \n",
            "  inflating: eye_blink_detector-master/videos/result.gif  \n"
          ],
          "name": "stdout"
        }
      ]
    },
    {
      "cell_type": "code",
      "metadata": {
        "colab": {
          "base_uri": "https://localhost:8080/"
        },
        "id": "UhI7lU3ZmOte",
        "outputId": "462b3276-0ac8-4da6-a649-4fbb36e1cb41"
      },
      "source": [
        "!unzip shape_predictor_68_face_landmarks.dat.bz2"
      ],
      "execution_count": null,
      "outputs": [
        {
          "output_type": "stream",
          "text": [
            "Archive:  shape_predictor_68_face_landmarks.dat.bz2\n",
            "  End-of-central-directory signature not found.  Either this file is not\n",
            "  a zipfile, or it constitutes one disk of a multi-part archive.  In the\n",
            "  latter case the central directory and zipfile comment will be found on\n",
            "  the last disk(s) of this archive.\n",
            "unzip:  cannot find zipfile directory in one of shape_predictor_68_face_landmarks.dat.bz2 or\n",
            "        shape_predictor_68_face_landmarks.dat.bz2.zip, and cannot find shape_predictor_68_face_landmarks.dat.bz2.ZIP, period.\n"
          ],
          "name": "stdout"
        }
      ]
    },
    {
      "cell_type": "code",
      "metadata": {
        "id": "krupVcHH3USe"
      },
      "source": [
        "import datetime\r\n",
        "import numpy as np\r\n",
        "import matplotlib.pyplot as plt\r\n",
        "from keras.layers import Input, Activation, Conv2D, Flatten,Dense, MaxPooling2D\r\n",
        "from keras.models import Model, load_model\r\n",
        "from keras.preprocessing.image import ImageDataGenerator\r\n",
        "from keras.callbacks import ModelCheckpoint, ReduceLROnPlateau\r\n",
        "\r\n",
        "plt.style.use('dark_background')"
      ],
      "execution_count": null,
      "outputs": []
    },
    {
      "cell_type": "code",
      "metadata": {
        "colab": {
          "base_uri": "https://localhost:8080/"
        },
        "id": "urVSskqZ38dB",
        "outputId": "5cf9b6f0-0b11-4595-f4c8-0ad6a9267e51"
      },
      "source": [
        "x_train = np.load('/content/eye_blink_detector-master/dataset/x_train.npy').astype(np.float32)\r\n",
        "y_train = np.load('/content/eye_blink_detector-master/dataset/y_train.npy').astype(np.float32)\r\n",
        "x_val = np.load('/content/eye_blink_detector-master/dataset/x_val.npy').astype(np.float32)\r\n",
        "y_val = np.load('/content/eye_blink_detector-master/dataset/y_val.npy').astype(np.float32)\r\n",
        "\r\n",
        "print(x_train.shape, y_train.shape)\r\n",
        "print(x_val.shape, y_val.shape)"
      ],
      "execution_count": null,
      "outputs": [
        {
          "output_type": "stream",
          "text": [
            "(2586, 26, 34, 1) (2586, 1)\n",
            "(288, 26, 34, 1) (288, 1)\n"
          ],
          "name": "stdout"
        }
      ]
    },
    {
      "cell_type": "code",
      "metadata": {
        "colab": {
          "base_uri": "https://localhost:8080/",
          "height": 181
        },
        "id": "F5mZDwZXqCEI",
        "outputId": "d521436b-871a-4a6c-f814-a13cb8ed5584"
      },
      "source": [
        "plt.subplot(2,1,2)\r\n",
        "plt.title(str(y_val[4]))\r\n",
        "plt.imshow(x_val[4].reshape((26,34)),cmap='gray')"
      ],
      "execution_count": null,
      "outputs": [
        {
          "output_type": "execute_result",
          "data": {
            "text/plain": [
              "<matplotlib.image.AxesImage at 0x7f2446356390>"
            ]
          },
          "metadata": {
            "tags": []
          },
          "execution_count": 15
        },
        {
          "output_type": "display_data",
          "data": {
            "image/png": "[encoded data removed]",
            "text/plain": [
              "<Figure size 432x288 with 1 Axes>"
            ]
          },
          "metadata": {
            "tags": []
          }
        }
      ]
    },
    {
      "cell_type": "code",
      "metadata": {
        "id": "I3V46rubqCQb"
      },
      "source": [
        "train_datagen = ImageDataGenerator(\r\n",
        "    rescale = 1./255,\r\n",
        "    rotation_range=10,\r\n",
        "    width_shift_range=0.2,\r\n",
        "    height_shift_range=0.2,\r\n",
        "    shear_range=0.2\r\n",
        ")\r\n",
        "\r\n",
        "val_datagen = ImageDataGenerator(rescale=1./255)\r\n",
        "\r\n",
        "train_generator = train_datagen.flow(\r\n",
        "    x = x_train,y = y_train,\r\n",
        "    batch_size = 32,\r\n",
        "    shuffle = True\r\n",
        ")\r\n",
        "\r\n",
        "val_generator = val_datagen.flow(\r\n",
        "    x = x_val, y = y_val,\r\n",
        "    batch_size = 32,\r\n",
        "    shuffle = False\r\n",
        ")"
      ],
      "execution_count": null,
      "outputs": []
    },
    {
      "cell_type": "code",
      "metadata": {
        "colab": {
          "base_uri": "https://localhost:8080/"
        },
        "id": "uRjH6YcvtWKK",
        "outputId": "6fea7834-4f91-42c8-ddda-d0597e445ef5"
      },
      "source": [
        "pip install keras --upgrade"
      ],
      "execution_count": null,
      "outputs": [
        {
          "output_type": "stream",
          "text": [
            "Requirement already up-to-date: keras in /usr/local/lib/python3.6/dist-packages (2.4.3)\n",
            "Requirement already satisfied, skipping upgrade: numpy>=1.9.1 in /usr/local/lib/python3.6/dist-packages (from keras) (1.19.5)\n",
            "Requirement already satisfied, skipping upgrade: pyyaml in /usr/local/lib/python3.6/dist-packages (from keras) (3.13)\n",
            "Requirement already satisfied, skipping upgrade: scipy>=0.14 in /usr/local/lib/python3.6/dist-packages (from keras) (1.4.1)\n",
            "Requirement already satisfied, skipping upgrade: h5py in /usr/local/lib/python3.6/dist-packages (from keras) (2.10.0)\n",
            "Requirement already satisfied, skipping upgrade: six in /usr/local/lib/python3.6/dist-packages (from h5py->keras) (1.15.0)\n"
          ],
          "name": "stdout"
        }
      ]
    },
    {
      "cell_type": "code",
      "metadata": {
        "colab": {
          "base_uri": "https://localhost:8080/"
        },
        "id": "UOPtMgQ5qCWF",
        "outputId": "24de0928-4776-42f2-f62b-7c50160b0d53"
      },
      "source": [
        "inputs = Input(shape=(26, 34, 1))\r\n",
        "\r\n",
        "net = Conv2D(32, kernel_size=3, strides=1, padding='same', activation='relu')(inputs)\r\n",
        "net = MaxPooling2D(pool_size=2)(net)\r\n",
        "\r\n",
        "net = Conv2D(64, kernel_size=3, strides=1, padding='same', activation='relu')(net)\r\n",
        "net = MaxPooling2D(pool_size=2)(net)\r\n",
        "\r\n",
        "net = Conv2D(128, kernel_size=3, strides=1, padding='same', activation='relu')(net)\r\n",
        "net = MaxPooling2D(pool_size=2)(net)\r\n",
        "\r\n",
        "net = Flatten()(net)\r\n",
        "\r\n",
        "net = Dense(512)(net)\r\n",
        "net = Activation('relu')(net)\r\n",
        "net = Dense(1)(net)\r\n",
        "outputs = Activation('sigmoid')(net)\r\n",
        "\r\n",
        "model = Model(inputs=inputs, outputs=outputs)\r\n",
        "\r\n",
        "model.compile(optimizer='adam', loss='binary_crossentropy', metrics=['acc'])\r\n",
        "\r\n",
        "model.summary()"
      ],
      "execution_count": null,
      "outputs": [
        {
          "output_type": "stream",
          "text": [
            "Model: \"model\"\n",
            "_________________________________________________________________\n",
            "Layer (type)                 Output Shape              Param #   \n",
            "=================================================================\n",
            "input_3 (InputLayer)         [(None, 26, 34, 1)]       0         \n",
            "_________________________________________________________________\n",
            "conv2d_2 (Conv2D)            (None, 26, 34, 32)        320       \n",
            "_________________________________________________________________\n",
            "max_pooling2d (MaxPooling2D) (None, 13, 17, 32)        0         \n",
            "_________________________________________________________________\n",
            "conv2d_3 (Conv2D)            (None, 13, 17, 64)        18496     \n",
            "_________________________________________________________________\n",
            "max_pooling2d_1 (MaxPooling2 (None, 6, 8, 64)          0         \n",
            "_________________________________________________________________\n",
            "conv2d_4 (Conv2D)            (None, 6, 8, 128)         73856     \n",
            "_________________________________________________________________\n",
            "max_pooling2d_2 (MaxPooling2 (None, 3, 4, 128)         0         \n",
            "_________________________________________________________________\n",
            "flatten (Flatten)            (None, 1536)              0         \n",
            "_________________________________________________________________\n",
            "dense (Dense)                (None, 512)               786944    \n",
            "_________________________________________________________________\n",
            "activation (Activation)      (None, 512)               0         \n",
            "_________________________________________________________________\n",
            "dense_1 (Dense)              (None, 1)                 513       \n",
            "_________________________________________________________________\n",
            "activation_1 (Activation)    (None, 1)                 0         \n",
            "=================================================================\n",
            "Total params: 880,129\n",
            "Trainable params: 880,129\n",
            "Non-trainable params: 0\n",
            "_________________________________________________________________\n"
          ],
          "name": "stdout"
        }
      ]
    },
    {
      "cell_type": "code",
      "metadata": {
        "colab": {
          "base_uri": "https://localhost:8080/"
        },
        "id": "dBgYcBgLqCaK",
        "outputId": "ed862d64-738c-4ef8-9e6f-ff99930c6608"
      },
      "source": [
        "start_time = datetime.datetime.now().strftime('%Y_%m_%d_%H_%M_%S')\r\n",
        "\r\n",
        "model.fit_generator(\r\n",
        "    train_generator, epochs=50, validation_data=val_generator,\r\n",
        "    callbacks=[ \r\n",
        "        ModelCheckpoint('models/%s.h5' % (start_time), monitor='val_acc', save_best_only=True, mode='max', verbose=1),\r\n",
        "        ReduceLROnPlateau(monitor='val_acc', factor=0.2, patience=10, verbose=1, mode='auto', min_lr=1e-05)\r\n",
        "    ]\r\n",
        ")"
      ],
      "execution_count": null,
      "outputs": [
        {
          "output_type": "stream",
          "text": [
            "/usr/local/lib/python3.6/dist-packages/tensorflow/python/keras/engine/training.py:1844: UserWarning: `Model.fit_generator` is deprecated and will be removed in a future version. Please use `Model.fit`, which supports generators.\n",
            "  warnings.warn('`Model.fit_generator` is deprecated and '\n"
          ],
          "name": "stderr"
        },
        {
          "output_type": "stream",
          "text": [
            "Epoch 1/50\n",
            "81/81 [==============================] - 7s 80ms/step - loss: 0.5449 - acc: 0.7068 - val_loss: 0.2164 - val_acc: 0.9201\n",
            "\n",
            "Epoch 00001: val_acc improved from -inf to 0.92014, saving model to models/2021_02_09_07_51_21.h5\n",
            "Epoch 2/50\n",
            "81/81 [==============================] - 6s 77ms/step - loss: 0.2437 - acc: 0.9089 - val_loss: 0.1600 - val_acc: 0.9271\n",
            "\n",
            "Epoch 00002: val_acc improved from 0.92014 to 0.92708, saving model to models/2021_02_09_07_51_21.h5\n",
            "Epoch 3/50\n",
            "81/81 [==============================] - 6s 77ms/step - loss: 0.1830 - acc: 0.9295 - val_loss: 0.0979 - val_acc: 0.9653\n",
            "\n",
            "Epoch 00003: val_acc improved from 0.92708 to 0.96528, saving model to models/2021_02_09_07_51_21.h5\n",
            "Epoch 4/50\n",
            "81/81 [==============================] - 6s 78ms/step - loss: 0.1510 - acc: 0.9441 - val_loss: 0.0497 - val_acc: 0.9757\n",
            "\n",
            "Epoch 00004: val_acc improved from 0.96528 to 0.97569, saving model to models/2021_02_09_07_51_21.h5\n",
            "Epoch 5/50\n",
            "81/81 [==============================] - 6s 77ms/step - loss: 0.1063 - acc: 0.9592 - val_loss: 0.0576 - val_acc: 0.9792\n",
            "\n",
            "Epoch 00005: val_acc improved from 0.97569 to 0.97917, saving model to models/2021_02_09_07_51_21.h5\n",
            "Epoch 6/50\n",
            "81/81 [==============================] - 6s 76ms/step - loss: 0.0887 - acc: 0.9678 - val_loss: 0.0775 - val_acc: 0.9722\n",
            "\n",
            "Epoch 00006: val_acc did not improve from 0.97917\n",
            "Epoch 7/50\n",
            "81/81 [==============================] - 6s 77ms/step - loss: 0.0949 - acc: 0.9625 - val_loss: 0.0418 - val_acc: 0.9861\n",
            "\n",
            "Epoch 00007: val_acc improved from 0.97917 to 0.98611, saving model to models/2021_02_09_07_51_21.h5\n",
            "Epoch 8/50\n",
            "81/81 [==============================] - 6s 77ms/step - loss: 0.0768 - acc: 0.9811 - val_loss: 0.0569 - val_acc: 0.9792\n",
            "\n",
            "Epoch 00008: val_acc did not improve from 0.98611\n",
            "Epoch 9/50\n",
            "81/81 [==============================] - 6s 79ms/step - loss: 0.0606 - acc: 0.9773 - val_loss: 0.0286 - val_acc: 0.9931\n",
            "\n",
            "Epoch 00009: val_acc improved from 0.98611 to 0.99306, saving model to models/2021_02_09_07_51_21.h5\n",
            "Epoch 10/50\n",
            "81/81 [==============================] - 6s 78ms/step - loss: 0.0745 - acc: 0.9687 - val_loss: 0.0445 - val_acc: 0.9757\n",
            "\n",
            "Epoch 00010: val_acc did not improve from 0.99306\n",
            "Epoch 11/50\n",
            "81/81 [==============================] - 6s 72ms/step - loss: 0.0646 - acc: 0.9801 - val_loss: 0.0389 - val_acc: 0.9896\n",
            "\n",
            "Epoch 00011: val_acc did not improve from 0.99306\n",
            "Epoch 12/50\n",
            "81/81 [==============================] - 6s 72ms/step - loss: 0.0571 - acc: 0.9850 - val_loss: 0.0427 - val_acc: 0.9861\n",
            "\n",
            "Epoch 00012: val_acc did not improve from 0.99306\n",
            "Epoch 13/50\n",
            "81/81 [==============================] - 6s 72ms/step - loss: 0.0308 - acc: 0.9906 - val_loss: 0.0482 - val_acc: 0.9861\n",
            "\n",
            "Epoch 00013: val_acc did not improve from 0.99306\n",
            "Epoch 14/50\n",
            "81/81 [==============================] - 6s 72ms/step - loss: 0.0363 - acc: 0.9895 - val_loss: 0.0196 - val_acc: 0.9931\n",
            "\n",
            "Epoch 00014: val_acc did not improve from 0.99306\n",
            "Epoch 15/50\n",
            "81/81 [==============================] - 6s 73ms/step - loss: 0.0384 - acc: 0.9886 - val_loss: 0.0224 - val_acc: 0.9931\n",
            "\n",
            "Epoch 00015: val_acc did not improve from 0.99306\n",
            "Epoch 16/50\n",
            "81/81 [==============================] - 6s 72ms/step - loss: 0.0380 - acc: 0.9888 - val_loss: 0.0181 - val_acc: 0.9931\n",
            "\n",
            "Epoch 00016: val_acc did not improve from 0.99306\n",
            "Epoch 17/50\n",
            "81/81 [==============================] - 6s 74ms/step - loss: 0.0297 - acc: 0.9934 - val_loss: 0.0124 - val_acc: 0.9965\n",
            "\n",
            "Epoch 00017: val_acc improved from 0.99306 to 0.99653, saving model to models/2021_02_09_07_51_21.h5\n",
            "Epoch 18/50\n",
            "81/81 [==============================] - 6s 74ms/step - loss: 0.0311 - acc: 0.9911 - val_loss: 0.0124 - val_acc: 0.9931\n",
            "\n",
            "Epoch 00018: val_acc did not improve from 0.99653\n",
            "Epoch 19/50\n",
            "81/81 [==============================] - 6s 72ms/step - loss: 0.0341 - acc: 0.9902 - val_loss: 0.0093 - val_acc: 1.0000\n",
            "\n",
            "Epoch 00019: val_acc improved from 0.99653 to 1.00000, saving model to models/2021_02_09_07_51_21.h5\n",
            "Epoch 20/50\n",
            "81/81 [==============================] - 6s 72ms/step - loss: 0.0254 - acc: 0.9904 - val_loss: 0.0335 - val_acc: 0.9826\n",
            "\n",
            "Epoch 00020: val_acc did not improve from 1.00000\n",
            "Epoch 21/50\n",
            "81/81 [==============================] - 6s 71ms/step - loss: 0.0336 - acc: 0.9919 - val_loss: 0.0496 - val_acc: 0.9861\n",
            "\n",
            "Epoch 00021: val_acc did not improve from 1.00000\n",
            "Epoch 22/50\n",
            "81/81 [==============================] - 6s 72ms/step - loss: 0.0378 - acc: 0.9864 - val_loss: 0.0433 - val_acc: 0.9826\n",
            "\n",
            "Epoch 00022: val_acc did not improve from 1.00000\n",
            "Epoch 23/50\n",
            "81/81 [==============================] - 6s 72ms/step - loss: 0.0247 - acc: 0.9909 - val_loss: 0.0084 - val_acc: 0.9965\n",
            "\n",
            "Epoch 00023: val_acc did not improve from 1.00000\n",
            "Epoch 24/50\n",
            "81/81 [==============================] - 6s 72ms/step - loss: 0.0323 - acc: 0.9861 - val_loss: 0.0274 - val_acc: 0.9931\n",
            "\n",
            "Epoch 00024: val_acc did not improve from 1.00000\n",
            "Epoch 25/50\n",
            "81/81 [==============================] - 6s 72ms/step - loss: 0.0268 - acc: 0.9898 - val_loss: 0.0155 - val_acc: 0.9965\n",
            "\n",
            "Epoch 00025: val_acc did not improve from 1.00000\n",
            "Epoch 26/50\n",
            "81/81 [==============================] - 6s 75ms/step - loss: 0.0510 - acc: 0.9847 - val_loss: 0.0070 - val_acc: 1.0000\n",
            "\n",
            "Epoch 00026: val_acc did not improve from 1.00000\n",
            "Epoch 27/50\n",
            "81/81 [==============================] - 6s 72ms/step - loss: 0.0108 - acc: 0.9962 - val_loss: 0.0249 - val_acc: 0.9931\n",
            "\n",
            "Epoch 00027: val_acc did not improve from 1.00000\n",
            "Epoch 28/50\n",
            "81/81 [==============================] - 6s 71ms/step - loss: 0.0278 - acc: 0.9901 - val_loss: 0.0137 - val_acc: 0.9931\n",
            "\n",
            "Epoch 00028: val_acc did not improve from 1.00000\n",
            "Epoch 29/50\n",
            "81/81 [==============================] - 6s 73ms/step - loss: 0.0297 - acc: 0.9936 - val_loss: 0.0132 - val_acc: 0.9965\n",
            "\n",
            "Epoch 00029: val_acc did not improve from 1.00000\n",
            "\n",
            "Epoch 00029: ReduceLROnPlateau reducing learning rate to 0.00020000000949949026.\n",
            "Epoch 30/50\n",
            "81/81 [==============================] - 6s 72ms/step - loss: 0.0201 - acc: 0.9934 - val_loss: 0.0078 - val_acc: 0.9965\n",
            "\n",
            "Epoch 00030: val_acc did not improve from 1.00000\n",
            "Epoch 31/50\n",
            "81/81 [==============================] - 6s 72ms/step - loss: 0.0115 - acc: 0.9962 - val_loss: 0.0124 - val_acc: 0.9931\n",
            "\n",
            "Epoch 00031: val_acc did not improve from 1.00000\n",
            "Epoch 32/50\n",
            "81/81 [==============================] - 6s 72ms/step - loss: 0.0096 - acc: 0.9971 - val_loss: 0.0145 - val_acc: 0.9931\n",
            "\n",
            "Epoch 00032: val_acc did not improve from 1.00000\n",
            "Epoch 33/50\n",
            "81/81 [==============================] - 6s 72ms/step - loss: 0.0078 - acc: 0.9967 - val_loss: 0.0114 - val_acc: 0.9931\n",
            "\n",
            "Epoch 00033: val_acc did not improve from 1.00000\n",
            "Epoch 34/50\n",
            "81/81 [==============================] - 6s 73ms/step - loss: 0.0083 - acc: 0.9961 - val_loss: 0.0087 - val_acc: 0.9931\n",
            "\n",
            "Epoch 00034: val_acc did not improve from 1.00000\n",
            "Epoch 35/50\n",
            "81/81 [==============================] - 6s 72ms/step - loss: 0.0089 - acc: 0.9981 - val_loss: 0.0079 - val_acc: 0.9965\n",
            "\n",
            "Epoch 00035: val_acc did not improve from 1.00000\n",
            "Epoch 36/50\n",
            "81/81 [==============================] - 6s 73ms/step - loss: 0.0053 - acc: 0.9980 - val_loss: 0.0085 - val_acc: 0.9965\n",
            "\n",
            "Epoch 00036: val_acc did not improve from 1.00000\n",
            "Epoch 37/50\n",
            "81/81 [==============================] - 6s 73ms/step - loss: 0.0068 - acc: 0.9974 - val_loss: 0.0065 - val_acc: 1.0000\n",
            "\n",
            "Epoch 00037: val_acc did not improve from 1.00000\n",
            "Epoch 38/50\n",
            "81/81 [==============================] - 6s 74ms/step - loss: 0.0045 - acc: 0.9991 - val_loss: 0.0052 - val_acc: 1.0000\n",
            "\n",
            "Epoch 00038: val_acc did not improve from 1.00000\n",
            "Epoch 39/50\n",
            "81/81 [==============================] - 6s 73ms/step - loss: 0.0059 - acc: 0.9968 - val_loss: 0.0044 - val_acc: 1.0000\n",
            "\n",
            "Epoch 00039: val_acc did not improve from 1.00000\n",
            "\n",
            "Epoch 00039: ReduceLROnPlateau reducing learning rate to 4.0000001899898055e-05.\n",
            "Epoch 40/50\n",
            "81/81 [==============================] - 6s 73ms/step - loss: 0.0058 - acc: 0.9979 - val_loss: 0.0061 - val_acc: 1.0000\n",
            "\n",
            "Epoch 00040: val_acc did not improve from 1.00000\n",
            "Epoch 41/50\n",
            "81/81 [==============================] - 6s 79ms/step - loss: 0.0067 - acc: 0.9979 - val_loss: 0.0054 - val_acc: 1.0000\n",
            "\n",
            "Epoch 00041: val_acc did not improve from 1.00000\n",
            "Epoch 42/50\n",
            "81/81 [==============================] - 6s 76ms/step - loss: 0.0042 - acc: 0.9992 - val_loss: 0.0049 - val_acc: 1.0000\n",
            "\n",
            "Epoch 00042: val_acc did not improve from 1.00000\n",
            "Epoch 43/50\n",
            "81/81 [==============================] - 6s 76ms/step - loss: 0.0037 - acc: 0.9982 - val_loss: 0.0065 - val_acc: 0.9965\n",
            "\n",
            "Epoch 00043: val_acc did not improve from 1.00000\n",
            "Epoch 44/50\n",
            "81/81 [==============================] - 6s 76ms/step - loss: 0.0067 - acc: 0.9965 - val_loss: 0.0072 - val_acc: 0.9965\n",
            "\n",
            "Epoch 00044: val_acc did not improve from 1.00000\n",
            "Epoch 45/50\n",
            "81/81 [==============================] - 6s 76ms/step - loss: 0.0055 - acc: 0.9979 - val_loss: 0.0058 - val_acc: 0.9965\n",
            "\n",
            "Epoch 00045: val_acc did not improve from 1.00000\n",
            "Epoch 46/50\n",
            "81/81 [==============================] - 6s 76ms/step - loss: 0.0036 - acc: 0.9993 - val_loss: 0.0067 - val_acc: 0.9965\n",
            "\n",
            "Epoch 00046: val_acc did not improve from 1.00000\n",
            "Epoch 47/50\n",
            "81/81 [==============================] - 6s 75ms/step - loss: 0.0067 - acc: 0.9974 - val_loss: 0.0069 - val_acc: 0.9965\n",
            "\n",
            "Epoch 00047: val_acc did not improve from 1.00000\n",
            "Epoch 48/50\n",
            "81/81 [==============================] - 6s 77ms/step - loss: 0.0075 - acc: 0.9980 - val_loss: 0.0097 - val_acc: 0.9965\n",
            "\n",
            "Epoch 00048: val_acc did not improve from 1.00000\n",
            "Epoch 49/50\n",
            "81/81 [==============================] - 6s 76ms/step - loss: 0.0050 - acc: 0.9983 - val_loss: 0.0070 - val_acc: 0.9965\n",
            "\n",
            "Epoch 00049: val_acc did not improve from 1.00000\n",
            "\n",
            "Epoch 00049: ReduceLROnPlateau reducing learning rate to 1e-05.\n",
            "Epoch 50/50\n",
            "81/81 [==============================] - 6s 76ms/step - loss: 0.0022 - acc: 0.9998 - val_loss: 0.0071 - val_acc: 0.9965\n",
            "\n",
            "Epoch 00050: val_acc did not improve from 1.00000\n"
          ],
          "name": "stdout"
        },
        {
          "output_type": "execute_result",
          "data": {
            "text/plain": [
              "<tensorflow.python.keras.callbacks.History at 0x7f24429d6f28>"
            ]
          },
          "metadata": {
            "tags": []
          },
          "execution_count": 23
        }
      ]
    },
    {
      "cell_type": "code",
      "metadata": {
        "colab": {
          "base_uri": "https://localhost:8080/",
          "height": 300
        },
        "id": "MWQWlIzfzJWd",
        "outputId": "fbdbd19e-a17f-4f79-cbfd-a4103d6432be"
      },
      "source": [
        "from sklearn.metrics import accuracy_score, confusion_matrix\r\n",
        "import seaborn as sns\r\n",
        "\r\n",
        "model = load_model('models/%s.h5' % (start_time))\r\n",
        "\r\n",
        "y_pred = model.predict(x_val/255.)\r\n",
        "y_pred_logical = (y_pred > 0.5).astype(np.int)\r\n",
        "\r\n",
        "print ('test acc: %s' % accuracy_score(y_val, y_pred_logical))\r\n",
        "cm = confusion_matrix(y_val, y_pred_logical)\r\n",
        "sns.heatmap(cm, annot=True)"
      ],
      "execution_count": null,
      "outputs": [
        {
          "output_type": "stream",
          "text": [
            "test acc: 1.0\n"
          ],
          "name": "stdout"
        },
        {
          "output_type": "execute_result",
          "data": {
            "text/plain": [
              "<matplotlib.axes._subplots.AxesSubplot at 0x7f2436ea40f0>"
            ]
          },
          "metadata": {
            "tags": []
          },
          "execution_count": 24
        },
        {
          "output_type": "display_data",
          "data": {
            "image/png": "[encoded data removed]",
            "text/plain": [
              "<Figure size 432x288 with 2 Axes>"
            ]
          },
          "metadata": {
            "tags": []
          }
        }
      ]
    },
    {
      "cell_type": "code",
      "metadata": {
        "colab": {
          "base_uri": "https://localhost:8080/",
          "height": 320
        },
        "id": "ZlIhTKF3zJlN",
        "outputId": "98bebec7-180c-4290-ad0e-839f525e8a13"
      },
      "source": [
        "ax = sns.distplot(y_pred, kde=False)"
      ],
      "execution_count": null,
      "outputs": [
        {
          "output_type": "stream",
          "text": [
            "/usr/local/lib/python3.6/dist-packages/seaborn/distributions.py:2557: FutureWarning: `distplot` is a deprecated function and will be removed in a future version. Please adapt your code to use either `displot` (a figure-level function with similar flexibility) or `histplot` (an axes-level function for histograms).\n",
            "  warnings.warn(msg, FutureWarning)\n"
          ],
          "name": "stderr"
        },
        {
          "output_type": "display_data",
          "data": {
            "image/png": "[encoded data removed]",
            "text/plain": [
              "<Figure size 432x288 with 1 Axes>"
            ]
          },
          "metadata": {
            "tags": []
          }
        }
      ]
    },
    {
      "cell_type": "code",
      "metadata": {
        "id": "AVHSwpgrzJvW"
      },
      "source": [
        "import cv2, dlib\r\n",
        "import numpy as np\r\n",
        "from imutils import face_utils\r\n",
        "from keras.models import load_model\r\n",
        "\r\n",
        "IMG_SIZE = (34, 26)\r\n",
        "\r\n",
        "detector = dlib.get_frontal_face_detector()\r\n",
        "predictor = dlib.shape_predictor('shape_predictor_68_face_landmarks.dat')\r\n",
        "\r\n",
        "model = load_model('models/2018_12_17_22_58_35.h5')\r\n",
        "model.summary()\r\n",
        "\r\n",
        "def crop_eye(img, eye_points):\r\n",
        "  x1, y1 = np.amin(eye_points, axis=0)\r\n",
        "  x2, y2 = np.amax(eye_points, axis=0)\r\n",
        "  cx, cy = (x1 + x2) / 2, (y1 + y2) / 2\r\n",
        "\r\n",
        "  w = (x2 - x1) * 1.2\r\n",
        "  h = w * IMG_SIZE[1] / IMG_SIZE[0]\r\n",
        "\r\n",
        "  margin_x, margin_y = w / 2, h / 2\r\n",
        "\r\n",
        "  min_x, min_y = int(cx - margin_x), int(cy - margin_y)\r\n",
        "  max_x, max_y = int(cx + margin_x), int(cy + margin_y)\r\n",
        "\r\n",
        "  eye_rect = np.rint([min_x, min_y, max_x, max_y]).astype(np.int)\r\n",
        "\r\n",
        "  eye_img = gray[eye_rect[1]:eye_rect[3], eye_rect[0]:eye_rect[2]]\r\n",
        "\r\n",
        "  return eye_img, eye_rect\r\n",
        "\r\n",
        "# main\r\n",
        "cap = cv2.VideoCapture('videos/2.mp4')\r\n",
        "\r\n",
        "while cap.isOpened():\r\n",
        "  ret, img_ori = cap.read()\r\n",
        "\r\n",
        "  if not ret:\r\n",
        "    break\r\n",
        "\r\n",
        "  img_ori = cv2.resize(img_ori, dsize=(0, 0), fx=0.5, fy=0.5)\r\n",
        "\r\n",
        "  img = img_ori.copy()\r\n",
        "  gray = cv2.cvtColor(img, cv2.COLOR_BGR2GRAY)\r\n",
        "\r\n",
        "  faces = detector(gray)\r\n",
        "\r\n",
        "  for face in faces:\r\n",
        "    shapes = predictor(gray, face)\r\n",
        "    shapes = face_utils.shape_to_np(shapes)\r\n",
        "\r\n",
        "    eye_img_l, eye_rect_l = crop_eye(gray, eye_points=shapes[36:42])\r\n",
        "    eye_img_r, eye_rect_r = crop_eye(gray, eye_points=shapes[42:48])\r\n",
        "\r\n",
        "    eye_img_l = cv2.resize(eye_img_l, dsize=IMG_SIZE)\r\n",
        "    eye_img_r = cv2.resize(eye_img_r, dsize=IMG_SIZE)\r\n",
        "    eye_img_r = cv2.flip(eye_img_r, flipCode=1)\r\n",
        "\r\n",
        "    cv2.imshow('l', eye_img_l)\r\n",
        "    cv2.imshow('r', eye_img_r)\r\n",
        "\r\n",
        "    eye_input_l = eye_img_l.copy().reshape((1, IMG_SIZE[1], IMG_SIZE[0], 1)).astype(np.float32) / 255.\r\n",
        "    eye_input_r = eye_img_r.copy().reshape((1, IMG_SIZE[1], IMG_SIZE[0], 1)).astype(np.float32) / 255.\r\n",
        "\r\n",
        "    pred_l = model.predict(eye_input_l)\r\n",
        "    pred_r = model.predict(eye_input_r)\r\n",
        "\r\n",
        "    # visualize\r\n",
        "    state_l = 'O %.1f' if pred_l > 0.1 else '- %.1f'\r\n",
        "    state_r = 'O %.1f' if pred_r > 0.1 else '- %.1f'\r\n",
        "\r\n",
        "    state_l = state_l % pred_l\r\n",
        "    state_r = state_r % pred_r\r\n",
        "\r\n",
        "    cv2.rectangle(img, pt1=tuple(eye_rect_l[0:2]), pt2=tuple(eye_rect_l[2:4]), color=(255,255,255), thickness=2)\r\n",
        "    cv2.rectangle(img, pt1=tuple(eye_rect_r[0:2]), pt2=tuple(eye_rect_r[2:4]), color=(255,255,255), thickness=2)\r\n",
        "\r\n",
        "    cv2.putText(img, state_l, tuple(eye_rect_l[0:2]), cv2.FONT_HERSHEY_SIMPLEX, 0.7, (255,255,255), 2)\r\n",
        "    cv2.putText(img, state_r, tuple(eye_rect_r[0:2]), cv2.FONT_HERSHEY_SIMPLEX, 0.7, (255,255,255), 2)\r\n",
        "\r\n",
        "  cv2.imshow('result', img)\r\n",
        "  if cv2.waitKey(1) == ord('q'):\r\n",
        "    break"
      ],
      "execution_count": null,
      "outputs": []
    }
  ]
}